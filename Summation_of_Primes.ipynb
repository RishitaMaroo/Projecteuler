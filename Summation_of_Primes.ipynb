{
  "nbformat": 4,
  "nbformat_minor": 0,
  "metadata": {
    "colab": {
      "provenance": [],
      "authorship_tag": "ABX9TyNlI859rBfYdz0S38a8O1EE",
      "include_colab_link": true
    },
    "kernelspec": {
      "name": "python3",
      "display_name": "Python 3"
    },
    "language_info": {
      "name": "python"
    }
  },
  "cells": [
    {
      "cell_type": "markdown",
      "metadata": {
        "id": "view-in-github",
        "colab_type": "text"
      },
      "source": [
        "<a href=\"https://colab.research.google.com/github/RishitaMaroo/Projecteuler/blob/main/Summation_of_Primes.ipynb\" target=\"_parent\"><img src=\"https://colab.research.google.com/assets/colab-badge.svg\" alt=\"Open In Colab\"/></a>"
      ]
    },
    {
      "cell_type": "code",
      "execution_count": null,
      "metadata": {
        "id": "a3pe5JyEHbWs"
      },
      "outputs": [],
      "source": [
        "l=[]\n",
        "for num in range(1,2000000):\n",
        "    if num > 1:\n",
        "        for i in range(2,num):\n",
        "            if (num % i) == 0:\n",
        "                break\n",
        "        else:\n",
        "            l.append(num)\n",
        "print(sum(l))"
      ]
    }
  ]
}