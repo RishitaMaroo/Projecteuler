{
  "nbformat": 4,
  "nbformat_minor": 0,
  "metadata": {
    "colab": {
      "provenance": [],
      "authorship_tag": "ABX9TyM/yRAAyWclRUaQWit2qqZv",
      "include_colab_link": true
    },
    "kernelspec": {
      "name": "python3",
      "display_name": "Python 3"
    },
    "language_info": {
      "name": "python"
    }
  },
  "cells": [
    {
      "cell_type": "markdown",
      "metadata": {
        "id": "view-in-github",
        "colab_type": "text"
      },
      "source": [
        "<a href=\"https://colab.research.google.com/github/RishitaMaroo/Projecteuler/blob/main/Largest_Prime_Factor.ipynb\" target=\"_parent\"><img src=\"https://colab.research.google.com/assets/colab-badge.svg\" alt=\"Open In Colab\"/></a>"
      ]
    },
    {
      "cell_type": "code",
      "execution_count": 1,
      "metadata": {
        "colab": {
          "base_uri": "https://localhost:8080/"
        },
        "id": "j_DV5LKmwTE9",
        "outputId": "f112bf27-7392-4189-8b8c-ae4ccc68ea29"
      },
      "outputs": [
        {
          "output_type": "stream",
          "name": "stdout",
          "text": [
            "6857.0\n"
          ]
        }
      ],
      "source": [
        "n=600851475143\n",
        "i=2\n",
        "while i*i<n:\n",
        "  while n%i==0:\n",
        "    n=n/i\n",
        "  i=i+1\n",
        "print(n)\n"
      ]
    }
  ]
}