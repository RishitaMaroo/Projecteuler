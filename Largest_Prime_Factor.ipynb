{
  "nbformat": 4,
  "nbformat_minor": 0,
  "metadata": {
    "colab": {
      "provenance": [],
      "authorship_tag": "ABX9TyPVx+/P15tQnfQkx+fTLeAt",
      "include_colab_link": true
    },
    "kernelspec": {
      "name": "python3",
      "display_name": "Python 3"
    },
    "language_info": {
      "name": "python"
    }
  },
  "cells": [
    {
      "cell_type": "markdown",
      "metadata": {
        "id": "view-in-github",
        "colab_type": "text"
      },
      "source": [
        "<a href=\"https://colab.research.google.com/github/RishitaMaroo/Projecteuler/blob/main/Largest_Prime_Factor.ipynb\" target=\"_parent\"><img src=\"https://colab.research.google.com/assets/colab-badge.svg\" alt=\"Open In Colab\"/></a>"
      ]
    },
    {
      "cell_type": "code",
      "execution_count": 2,
      "metadata": {
        "colab": {
          "base_uri": "https://localhost:8080/"
        },
        "id": "xfT_AbV6KRaQ",
        "outputId": "08bd6af3-1173-4c9b-bd38-b364e7adc82a"
      },
      "outputs": [
        {
          "output_type": "stream",
          "name": "stdout",
          "text": [
            "6857.0\n"
          ]
        }
      ],
      "source": [
        "num=600851475143\n",
        "i=2\n",
        "while i*i<num:\n",
        "  while num%i==0:\n",
        "    num=num/i\n",
        "  i=i+1\n",
        "print(num)"
      ]
    },
    {
      "cell_type": "code",
      "source": [
        "num=600851475143\n",
        "i=2\n",
        "while i*i<num:\n",
        "  while num%i==0:\n",
        "    num=num/i\n",
        "  i=i+1\n",
        "print(num)"
      ],
      "metadata": {
        "id": "3NZpgI_tK19K"
      },
      "execution_count": null,
      "outputs": []
    },
    {
      "cell_type": "markdown",
      "source": [],
      "metadata": {
        "id": "u3Z1Ks7EKvb_"
      }
    }
  ]
}