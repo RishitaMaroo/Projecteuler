{
  "nbformat": 4,
  "nbformat_minor": 0,
  "metadata": {
    "colab": {
      "provenance": [],
      "authorship_tag": "ABX9TyPi9BOkyPlxpjokkpkWrW5t",
      "include_colab_link": true
    },
    "kernelspec": {
      "name": "python3",
      "display_name": "Python 3"
    },
    "language_info": {
      "name": "python"
    }
  },
  "cells": [
    {
      "cell_type": "markdown",
      "metadata": {
        "id": "view-in-github",
        "colab_type": "text"
      },
      "source": [
        "<a href=\"https://colab.research.google.com/github/RishitaMaroo/Projecteuler/blob/main/Double_base_Palindromes.ipynb\" target=\"_parent\"><img src=\"https://colab.research.google.com/assets/colab-badge.svg\" alt=\"Open In Colab\"/></a>"
      ]
    },
    {
      "cell_type": "code",
      "execution_count": 20,
      "metadata": {
        "colab": {
          "base_uri": "https://localhost:8080/"
        },
        "id": "ggc0n9c0dKYg",
        "outputId": "fb052063-63fd-46d2-bf6c-e6af4f22446e"
      },
      "outputs": [
        {
          "output_type": "stream",
          "name": "stdout",
          "text": [
            "872187\n"
          ]
        }
      ],
      "source": [
        "lis=[]\n",
        "num=100\n",
        "for i in range(0,1000000):\n",
        "  k=bin(i)[2:]\n",
        "  #print(k)\n",
        "  l=str(k)\n",
        "  j=str(i)\n",
        "  if j==j[::-1]:\n",
        "    if l==l[::-1]:\n",
        "      lis.append(i)\n",
        "print(sum(lis))\n"
      ]
    }
  ]
}