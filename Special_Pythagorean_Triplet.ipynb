{
  "nbformat": 4,
  "nbformat_minor": 0,
  "metadata": {
    "colab": {
      "provenance": [],
      "authorship_tag": "ABX9TyP6nMh65vJVz8eo4eXRXsw+",
      "include_colab_link": true
    },
    "kernelspec": {
      "name": "python3",
      "display_name": "Python 3"
    },
    "language_info": {
      "name": "python"
    }
  },
  "cells": [
    {
      "cell_type": "markdown",
      "metadata": {
        "id": "view-in-github",
        "colab_type": "text"
      },
      "source": [
        "<a href=\"https://colab.research.google.com/github/RishitaMaroo/Projecteuler/blob/main/Special_Pythagorean_Triplet.ipynb\" target=\"_parent\"><img src=\"https://colab.research.google.com/assets/colab-badge.svg\" alt=\"Open In Colab\"/></a>"
      ]
    },
    {
      "cell_type": "code",
      "execution_count": 17,
      "metadata": {
        "colab": {
          "base_uri": "https://localhost:8080/"
        },
        "id": "nebJa_5_Di4Y",
        "outputId": "9a666927-ce89-4b32-8ad7-0bc32f7e0d8e"
      },
      "outputs": [
        {
          "output_type": "stream",
          "name": "stdout",
          "text": [
            "200 375 425.0\n",
            "31875000.0\n"
          ]
        }
      ],
      "source": [
        "import math\n",
        "for x in range(1,1000):\n",
        "  for y in range(x,1000):\n",
        "    z=math.sqrt((x*x)+(y*y))\n",
        "    if z.is_integer() and z<=1000:\n",
        "      if x+y+z==1000:\n",
        "        print(x,y,z)\n",
        "        print(x*y*z)"
      ]
    }
  ]
}