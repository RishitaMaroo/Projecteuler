{
  "nbformat": 4,
  "nbformat_minor": 0,
  "metadata": {
    "colab": {
      "provenance": [],
      "authorship_tag": "ABX9TyOb+USHbDRjlflADBGBJMRR",
      "include_colab_link": true
    },
    "kernelspec": {
      "name": "python3",
      "display_name": "Python 3"
    },
    "language_info": {
      "name": "python"
    }
  },
  "cells": [
    {
      "cell_type": "markdown",
      "metadata": {
        "id": "view-in-github",
        "colab_type": "text"
      },
      "source": [
        "<a href=\"https://colab.research.google.com/github/RishitaMaroo/Projecteuler/blob/main/Even_Fibonacci_Numbers.ipynb\" target=\"_parent\"><img src=\"https://colab.research.google.com/assets/colab-badge.svg\" alt=\"Open In Colab\"/></a>"
      ]
    },
    {
      "cell_type": "code",
      "execution_count": 1,
      "metadata": {
        "colab": {
          "base_uri": "https://localhost:8080/"
        },
        "id": "d6K4nvQhco5V",
        "outputId": "1bba4812-0c34-4caf-b990-9c1a28803187"
      },
      "outputs": [
        {
          "output_type": "stream",
          "name": "stdout",
          "text": [
            "4613732\n"
          ]
        }
      ],
      "source": [
        "fibs = [1, 1]\n",
        "while fibs[-1] + fibs[-2] < 4000000:\n",
        "    fibs.append(fibs[-1] + fibs[-2])\n",
        "\n",
        "evens = []\n",
        "for n in fibs:\n",
        "    if n % 2 == 0:\n",
        "        evens.append(n)\n",
        "\n",
        "print(sum(evens))"
      ]
    }
  ]
}